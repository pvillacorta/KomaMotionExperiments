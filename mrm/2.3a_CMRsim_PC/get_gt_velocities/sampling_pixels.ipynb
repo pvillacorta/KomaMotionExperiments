{
 "cells": [
  {
   "cell_type": "code",
   "execution_count": 2,
   "metadata": {},
   "outputs": [],
   "source": [
    "import pyvista as pv\n",
    "import numpy as np"
   ]
  },
  {
   "cell_type": "code",
   "execution_count": 6,
   "metadata": {},
   "outputs": [
    {
     "name": "stdout",
     "output_type": "stream",
     "text": [
      "Title: Motion in KomaMRI MRM Phantoms\n",
      "Keywords: \n",
      "Publication date: 2025-06-04\n",
      "DOI: 10.5281/zenodo.15588103\n",
      "Total size: 114.0 MB\n",
      "\n",
      "Downloading (1/1):\n",
      "File: sUbend.vtu (114.0 MB)\n",
      "Link: https://zenodo.org/api/records/15588103/files/sUbend.vtu/content\n",
      "100% [..................................................] 113976401 / 113976401\n",
      "Checksum is correct for sUbend.vtu. (a36182d6cf0434fe14279bfef6bd466d)\n",
      "\n",
      "All specified files have been processed.\n"
     ]
    }
   ],
   "source": [
    "! zenodo_get 15588103 -g \"sUbend.vtu\""
   ]
  },
  {
   "cell_type": "code",
   "execution_count": 2,
   "metadata": {},
   "outputs": [],
   "source": [
    "def sample_pixel(mesh, x, y, z, pixel_size=1e-3):\n",
    "    \"\"\"\n",
    "    Sample velocity data from a given mesh at a specified pixel location.\n",
    "\n",
    "    Parameters:\n",
    "    mesh (pyvista.core.pointset.UnstructuredGrid): The mesh to sample from.\n",
    "    x (float): The x-coordinate of the pixel's location.\n",
    "    y (float): The y-coordinate of the pixel's location.\n",
    "    z (float): The z-coordinate of the pixel's location.\n",
    "    pixel_size (float, optional): The size of the pixel. Default is 1e-3.\n",
    "\n",
    "    Returns:\n",
    "    tuple: Three arrays containing the sampled velocity components (vx, vy, vz).\n",
    "    \"\"\"\n",
    "    e_x = e_y = e_z = pixel_size\n",
    "    dx , dy, dz = x, y, z\n",
    "    pixel = pv.Box(bounds = (0, e_x, 0, e_y, 0, e_z), level=0, quads=True).translate([dx-pixel_size/2, dy-pixel_size/2, dz-pixel_size/2])\n",
    "\n",
    "    # Sample velocity data\n",
    "    sampled_points = pixel.sample(mesh)\n",
    "    return sampled_points['U'][:, 0], sampled_points['U'][:, 1], sampled_points['U'][:, 2], pixel"
   ]
  },
  {
   "cell_type": "code",
   "execution_count": 3,
   "metadata": {},
   "outputs": [],
   "source": [
    "mesh = pv.read('sUbend.vtu')"
   ]
  },
  {
   "cell_type": "code",
   "execution_count": 4,
   "metadata": {},
   "outputs": [
    {
     "name": "stdout",
     "output_type": "stream",
     "text": [
      "3.2093268104363233 -0.0859851012355648 0.20601526383597957\n"
     ]
    }
   ],
   "source": [
    "vx, vy, vz, pixel_mesh = sample_pixel(mesh, 0.1, 0, 0, pixel_size=1e-3)\n",
    "print(vx.mean(), vy.mean(), vz.mean())"
   ]
  },
  {
   "cell_type": "code",
   "execution_count": 15,
   "metadata": {},
   "outputs": [],
   "source": [
    "# pixel_mesh.save('pixel.vtk')"
   ]
  },
  {
   "cell_type": "code",
   "execution_count": 5,
   "metadata": {},
   "outputs": [],
   "source": [
    "data = np.load(\"pixel_positions_axial_mask_40x80.npz\")\n",
    "vx_arr = []\n",
    "vy_arr = []\n",
    "vz_arr = []"
   ]
  },
  {
   "cell_type": "code",
   "execution_count": 6,
   "metadata": {},
   "outputs": [],
   "source": [
    "for i in range(len(data['x'])):\n",
    "    vx, vy, vz, pixel_mesh = sample_pixel(mesh, data['x'][i], data['y'][i], data['z'][i], pixel_size=1e-3)\n",
    "    vx_arr.append(vx.mean())\n",
    "    vy_arr.append(vy.mean())\n",
    "    vz_arr.append(vz.mean())"
   ]
  },
  {
   "cell_type": "code",
   "execution_count": 11,
   "metadata": {},
   "outputs": [
    {
     "name": "stdout",
     "output_type": "stream",
     "text": [
      "mean:  0.027650544998626646\n",
      "median:  -0.48234846201557957\n",
      "std:  1.094472268638378\n",
      "min:  -1.070285011199303\n",
      "max:  4.52255232911557\n"
     ]
    }
   ],
   "source": [
    "print(\"mean: \", np.mean(vx_arr))\n",
    "print(\"median: \", np.median(vx_arr))\n",
    "print(\"std: \", np.std(vx_arr))\n",
    "print(\"min: \", np.min(vx_arr))\n",
    "print(\"max: \", np.max(vx_arr))"
   ]
  },
  {
   "cell_type": "code",
   "execution_count": 12,
   "metadata": {},
   "outputs": [],
   "source": [
    "np.savez(\"velocity_data_axial_40x80.npz\", vx=vx_arr, vy=vy_arr, vz=vz_arr)"
   ]
  }
 ],
 "metadata": {
  "kernelspec": {
   "display_name": "base",
   "language": "python",
   "name": "python3"
  },
  "language_info": {
   "codemirror_mode": {
    "name": "ipython",
    "version": 3
   },
   "file_extension": ".py",
   "mimetype": "text/x-python",
   "name": "python",
   "nbconvert_exporter": "python",
   "pygments_lexer": "ipython3",
   "version": "3.12.2"
  }
 },
 "nbformat": 4,
 "nbformat_minor": 2
}
